{
  "nbformat": 4,
  "nbformat_minor": 0,
  "metadata": {
    "colab": {
      "provenance": [],
      "authorship_tag": "ABX9TyOvuY4iY/gvzaVbSaZnzMkh",
      "include_colab_link": true
    },
    "kernelspec": {
      "name": "python3",
      "display_name": "Python 3"
    },
    "language_info": {
      "name": "python"
    }
  },
  "cells": [
    {
      "cell_type": "markdown",
      "metadata": {
        "id": "view-in-github",
        "colab_type": "text"
      },
      "source": [
        "<a href=\"https://colab.research.google.com/github/Kmilibreros56/Matematicas-aplicadas-I/blob/main/JuanCamiloLibreosGallardo_A00412339.ipynb\" target=\"_parent\"><img src=\"https://colab.research.google.com/assets/colab-badge.svg\" alt=\"Open In Colab\"/></a>"
      ]
    },
    {
      "cell_type": "markdown",
      "source": [
        ">## <font color=\"red\"> AUTOBIOGRAFIA.</font>\n",
        "\n",
        "Mi nombre es Juan Camilo Libreros Gallardo y tengo 18 años de edad, soy estudiante de la universidad Icesi y actualmente me encuentro cursando segundo semestre de ingenieria industrial y vivo en la ciudad de cali con mi hermano, mi mama y mi perro.\n",
        "\n",
        "Una de las cosas que mas me gusta hacer en mis tiempos libres es salir con mis amigos a cualquier plan, ya sea desde ir a comer y charlar bien tranquilo hasta ir a rumbear y desconocerse.\n",
        "\n",
        "A pesar de que me gusta socializar y salir bastante tambien disfruto demasiado el tiempo que paso en la casa estando solo o con mi familia, ya que es un momento en el que estoy completamente relajado y tranquilo, puedo jugar en el computador con mis amigos o sencillamente ver una pelicula o una serie.\n",
        "\n",
        "En la etapa de mi vida en la que estoy puedo decir que soy plenamente feliz cono lo que me rodea, disfruto estar en la universidad porque a parte de estudiar lo que me gusta puedo combinarlo con el socializar con mis amigos, ademas que valoro mucho el espacio y los tiempos debido a que hace un año experimente mis estudios universitarios en modalidad virtual (experiencia la cual no le recominedo a nadie). Esto debido a que me perdia el hecho de tener un campus en el que pueda estudiar con multiples beneficios, el no tener profesores a la mano para cualquier inquietud, unos compañeros de clase para reforzar el estudio y la vida social y muchas mas ccosas que precisamente te pierdes por no estudiar de modalidad presencial.\n",
        "\n",
        "Es por eso, que tome la decision de abandonar mis estudios y retomarlos en cali donde puedo decir que estoy bastante contento, hasta tal punto que hay ocasiones en las que prefiero estar en la universidad que en mi propia casa.\n",
        "\n",
        "![Imagen de WhatsApp 2025-02-07 a las 15.18.25_003a69f7.jpg](data:image/jpeg;base64,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)\n",
        "\n",
        "\n",
        "\n",
        "\n",
        "\n"
      ],
      "metadata": {
        "id": "1ZTAg4u3F2EV"
      }
    },
    {
      "cell_type": "markdown",
      "source": [
        "\n",
        "\n",
        "*   Elemento de la lista\n",
        "*   Elemento de la lista\n",
        "* escribir\n",
        "\n"
      ],
      "metadata": {
        "id": "XgtkRjH4KjdI"
      }
    }
  ]
}