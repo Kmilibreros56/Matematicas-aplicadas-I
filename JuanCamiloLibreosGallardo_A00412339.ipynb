{
  "nbformat": 4,
  "nbformat_minor": 0,
  "metadata": {
    "colab": {
      "provenance": [],
      "authorship_tag": "ABX9TyO9pfzhXptu4vOgzYnKN74F",
      "include_colab_link": true
    },
    "kernelspec": {
      "name": "python3",
      "display_name": "Python 3"
    },
    "language_info": {
      "name": "python"
    }
  },
  "cells": [
    {
      "cell_type": "markdown",
      "metadata": {
        "id": "view-in-github",
        "colab_type": "text"
      },
      "source": [
        "<a href=\"https://colab.research.google.com/github/Kmilibreros56/Matematicas-aplicadas-I/blob/main/JuanCamiloLibreosGallardo_A00412339.ipynb\" target=\"_parent\"><img src=\"https://colab.research.google.com/assets/colab-badge.svg\" alt=\"Open In Colab\"/></a>"
      ]
    },
    {
      "cell_type": "markdown",
      "source": [
        "> ##<font color=\"red\"> AUTOBIOGRAFIA.</font>\n",
        "\n",
        "Mi nombre es Juan Camilo Librers"
      ],
      "metadata": {
        "id": "1ZTAg4u3F2EV"
      }
    }
  ]
}