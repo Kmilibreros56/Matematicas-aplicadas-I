{
  "nbformat": 4,
  "nbformat_minor": 0,
  "metadata": {
    "colab": {
      "provenance": []
    },
    "kernelspec": {
      "name": "python3",
      "display_name": "Python 3"
    },
    "language_info": {
      "name": "python"
    }
  },
  "cells": [
    {
      "cell_type": "code",
      "execution_count": 5,
      "metadata": {
        "colab": {
          "base_uri": "https://localhost:8080/"
        },
        "id": "eHkL0G_XUZBS",
        "outputId": "eaf55f4a-1cc4-431a-8a48-74d763d2ba0b"
      },
      "outputs": [
        {
          "output_type": "stream",
          "name": "stdout",
          "text": [
            "Bienvenido a mi calculadora\n",
            "numero 1\n",
            "2\n",
            "numero 2\n",
            "4\n",
            "suma\n",
            "6\n",
            "resta\n",
            "-2\n",
            "multiplicar\n",
            "8\n",
            "dividir\n",
            "0.5\n",
            "raiz cuadrada\n",
            "1.4142135623730951\n",
            "2.0\n",
            "elevado al cuadrado\n",
            "4\n",
            "16\n"
          ]
        }
      ],
      "source": [
        "import math as mt\n",
        "print (\"Bienvenido a mi calculadora\")\n",
        "print (\"numero 1\")\n",
        "n1 = int(input())\n",
        "print (\"numero 2\")\n",
        "n2 = int(input())\n",
        "print (\"suma\")\n",
        "print (n1 + n2)\n",
        "print (\"resta\")\n",
        "print (n1 - n2)\n",
        "print (\"multiplicar\")\n",
        "print (n1 * n2 )\n",
        "print (\"dividir\")\n",
        "print (n1 / n2)\n",
        "print (\"raiz cuadrada\")\n",
        "print (mt.sqrt(n1))\n",
        "print (mt.sqrt(n2))\n",
        "print (\"elevado al cuadrado\")\n",
        "print (n1 ** 2)\n",
        "print (n2 ** 2)"
      ]
    },
    {
      "cell_type": "code",
      "source": [
        "from ast import Break\n",
        "print(\"Bienvenido al cajero auromatico de Bancolombia\")\n",
        "print(\"Que operacion deseas hacer el dia de hoy\")\n",
        "nequi = 200000\n",
        "bancolombia = 30000000\n",
        "print (\"1) retirar por nequi\")\n",
        "print (\"2) retirar por bancolombia\")\n",
        "print (\"3) Depositar dinero\")\n",
        "print (\"4) consultar saldo\")\n",
        "print (\"5) salir \")\n",
        "opcion = int(input())\n",
        "if opcion == 1:\n",
        "  print (\"Cuanto vas a retirar\")\n",
        "  retiro = int(input())\n",
        "  if retiro > nequi :\n",
        "    print (\"fondos insuficientes\")\n",
        "  else:\n",
        "    print (\"retiro hecho exitosamente\")\n",
        "    saldo = nequi - retiro\n",
        "    print (saldo)\n",
        "elif opcion == 2:\n",
        "  print (\"Cuanto vas a retirar\")\n",
        "  retiro = int(input())\n",
        "  if retiro > bancolombia :\n",
        "    print (\"fondos insuficientes\")\n",
        "  else:\n",
        "    print (\"retiro hecho exitosamente\")\n",
        "    saldo = bancolombia - retiro\n",
        "    print (saldo)\n",
        "elif opcion == 3:\n",
        "  print(\"donde vas a depositar\")\n",
        "  print(\"1) nequi\")\n",
        "  print(\"2) bancolombia\")\n",
        "  deposito = int(input())\n",
        "  if deposito == 1:\n",
        "    print (\"Cuanto vas a depositar\")\n",
        "    deposito = int(input())\n",
        "    saldo = nequi + deposito\n",
        "    print (saldo)\n",
        "  else:\n",
        "    print (\"Cuanto vas a depositar\")\n",
        "    deposito = int(input())\n",
        "    saldo = bancolombia + deposito\n",
        "    print (saldo)\n",
        "elif opcion == 4:\n",
        "  print(\"en donde vas a consultar\")\n",
        "  print(\"1) nequi\")\n",
        "  print(\"2) bancolombia\")\n",
        "  consultar = int(input())\n",
        "  if consultar == 1:\n",
        "    print (nequi)\n",
        "  else:\n",
        "    print (bancolombia)\n",
        "elif opcion == 5:\n",
        "  print (\"hasta luego\")\n",
        "else:\n",
        "  print (\"opcion invalida\")"
      ],
      "metadata": {
        "colab": {
          "base_uri": "https://localhost:8080/"
        },
        "id": "FClcZe85V2HD",
        "outputId": "c8d6ae64-cd8f-4d97-c0bb-3243941d681c"
      },
      "execution_count": 12,
      "outputs": [
        {
          "output_type": "stream",
          "name": "stdout",
          "text": [
            "Bienvenido al cajero auromatico de Bancolombia\n",
            "Que operacion deseas hacer el dia de hoy\n",
            "1) retirar por nequi\n",
            "2) retirar por bancolombia\n",
            "3) Depositar dinero\n",
            "4) consultar saldo\n",
            "5) salir \n",
            "5\n",
            "hasta luego\n"
          ]
        }
      ]
    }
  ]
}